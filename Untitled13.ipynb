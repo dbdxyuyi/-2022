{
 "cells": [
  {
   "cell_type": "code",
   "execution_count": 1,
   "id": "f56ae937",
   "metadata": {},
   "outputs": [
    {
     "name": "stdout",
     "output_type": "stream",
     "text": [
      "pre [0.  1.  0.  ... 0.6 0.  1. ]\n",
      "test ['no' 'yes' 'no' ... 'yes' 'no' 'yes']\n"
     ]
    },
    {
     "name": "stderr",
     "output_type": "stream",
     "text": [
      "No artists with labels found to put in legend.  Note that artists whose label start with an underscore are ignored when legend() is called with no argument.\n"
     ]
    },
    {
     "name": "stdout",
     "output_type": "stream",
     "text": [
      "0.9820238095238095\n",
      "0.9661111111111111\n",
      "0.9920408017729916\n"
     ]
    },
    {
     "data": {
      "image/png": "[encoded data removed]",
      "text/plain": [
       "<Figure size 432x288 with 2 Axes>"
      ]
     },
     "metadata": {
      "needs_background": "light"
     },
     "output_type": "display_data"
    },
    {
     "data": {
      "text/plain": [
       "<Figure size 432x288 with 0 Axes>"
      ]
     },
     "metadata": {},
     "output_type": "display_data"
    },
    {
     "data": {
      "image/png": "[encoded data removed]",
      "text/plain": [
       "<Figure size 432x432 with 1 Axes>"
      ]
     },
     "metadata": {
      "needs_background": "light"
     },
     "output_type": "display_data"
    }
   ],
   "source": [
    "import pandas as pd\n",
    "from pandas import DataFrame,Series\n",
    "import sys\n",
    "import os\n",
    "import cv2\n",
    "import numpy as np\n",
    "\n",
    "from sklearn.model_selection import train_test_split\n",
    "from sklearn.metrics import roc_curve,auc\n",
    "from sklearn.neighbors import KNeighborsClassifier\n",
    "import seaborn as sns\n",
    "from sklearn.metrics import confusion_matrix\n",
    "from sklearn.metrics import accuracy_score,roc_auc_score,roc_curve,auc\n",
    "import matplotlib.pyplot as plt\n",
    "SHAPE = (30, 30)\n",
    "def getImageData(directory):\n",
    "   s = 1\n",
    "   feature_list = list()\n",
    "   label_list   = list()\n",
    "   num_classes = 0\n",
    "   for root, dirs, files in os.walk(directory):\n",
    "      for d in dirs:\n",
    "         num_classes += 1\n",
    "         images = os.listdir(root+d)\n",
    "         for image in images:\n",
    "            s += 1\n",
    "            label_list.append(d)\n",
    "            feature_list.append(extractFeaturesFromImage(root + d + \"/\" + image))\n",
    "\n",
    "   return np.asarray(feature_list), np.asarray(label_list)\n",
    "\n",
    "def extractFeaturesFromImage(image_file):\n",
    "   img = cv2.imread(image_file)\n",
    "   img = cv2.resize(img, SHAPE, interpolation = cv2.INTER_CUBIC)\n",
    "   img = img.flatten()\n",
    "   img = img / np.mean(img)\n",
    "   return img\n",
    "   \n",
    "\n",
    "if __name__ == \"__main__\":\n",
    "   \n",
    "  directory =\"C:/Users/11409/Desktop/444/\"\n",
    "\n",
    "  feature_array, label_array = getImageData(directory)\n",
    "\n",
    "  X_train, X_test, y_train, y_test = train_test_split(feature_array, label_array, test_size = 0.3, random_state = 42)\n",
    "\n",
    " \n",
    "  \n",
    "  clf = KNeighborsClassifier()\n",
    "  \n",
    "  clf.fit(X_train, y_train)\n",
    "  \n",
    "  Ypred =  clf.predict_proba(X_test)[:, 1]\n",
    "\n",
    "  print(\"pre\",Ypred)\n",
    "  print(\"test\",y_test)\n",
    "  \n",
    "  \n",
    "  y_test_predict = clf.predict(X_test)\n",
    "  y_train_predict = clf.predict(X_train)\n",
    "  for i in range(len(y_test)):\n",
    "      if y_test[i]=='yes':\n",
    "         y_test[i]='1'\n",
    "      else:\n",
    "        y_test[i]='0'\n",
    "  for i in range(len(y_train_predict)):\n",
    "       if y_train_predict[i] == 'yes':\n",
    "          y_train_predict[i] ='1' \n",
    "       else:\n",
    "          y_train_predict[i] ='0'\n",
    "  for i in range(len(y_test)):\n",
    "         if y_test_predict[i] == 'yes':\n",
    "            y_test_predict[i] = '1'\n",
    "         else:\n",
    "            y_test_predict[i] = '0'\n",
    "  for i in range(len(y_train)):\n",
    "        if y_train[i] == 'yes':\n",
    "            y_train[i] = '1'\n",
    "        else:\n",
    "            y_train[i] = '0'\n",
    "    # 测试准确率\n",
    "  y_true = y_test\n",
    "  y_pred = y_test_predict\n",
    "  cm = confusion_matrix(y_true,y_pred)\n",
    "  cm = pd.DataFrame(cm,columns=[\"healthy\",\"cancer\"],index=[\"healthy\",\"cancer\"])\n",
    "  sns.heatmap(cm,cmap=\"YlGnBu_r\",fmt=\"d\",annot=True)\n",
    "  accuracy_train = accuracy_score(y_train, y_train_predict)\n",
    "  print(accuracy_train)\n",
    "  # 测试准确率\n",
    "  # 测试准确率\n",
    "\n",
    "  accuracy_test = accuracy_score(y_test, y_test_predict)\n",
    "  print(accuracy_test)\n",
    "df=DataFrame()\n",
    "df['label']=Series(y_test)\n",
    "df['probability']=Series(Ypred)\n",
    "df.to_csv('C:/Users/11409/Desktop/clf_roc.csv')\n",
    "\n",
    "def ROC(path):\n",
    "    df=pd.read_csv(path) \n",
    "    y_test=df['label']\n",
    "    y_score=df['probability']   \n",
    "    fpr,tpr,threshold = roc_curve(y_test, y_score) ###计算真正率和假正率  \n",
    "    roc_auc = auc(fpr,tpr) ###计算auc的值\n",
    "    return fpr,tpr,roc_auc\n",
    "plt.figure()\n",
    "lw = 0.9\n",
    "plt.figure(figsize=(6,6))\n",
    "ax1=plt.subplot(1,1,1)\n",
    "ak='C:/Users/11409/Desktop/clf_roc.csv'\n",
    "fpr,tpr,roc_auc=ROC(path=ak)\n",
    "print(roc_auc)\n",
    "ax1.plot(fpr, tpr, color='#2F7FC1',lw=lw)\n",
    "ax1.plot([0, 1], [0, 1], color='SlateGray', lw=0.8, linestyle='--')  \n",
    "ax1.set_xlim([-0.02, 1.0])  \n",
    "ax1.set_ylim([0.0, 1.02])  \n",
    "ax1.set_xlabel('False Positive Rate',fontsize=14)  \n",
    "ax1.set_ylabel('True Positive Rate',fontsize=14) \n",
    "plt.legend(loc=\"lower right\")\n",
    "plt.savefig('C:/Users/11409/Desktop/clf.png',dpi=600,bbox_inches='tight')\n",
    "plt.show()    "
   ]
  },
  {
   "cell_type": "code",
   "execution_count": 9,
   "id": "f73dcb92",
   "metadata": {},
   "outputs": [
    {
     "data": {
      "text/plain": [
       "KNeighborsClassifier()"
      ]
     },
     "execution_count": 9,
     "metadata": {},
     "output_type": "execute_result"
    }
   ],
   "source": [
    "directory =\"C:/Users/11409/Desktop/444/\"\n",
    "\n",
    "feature_array, label_array = getImageData(directory)\n",
    "\n",
    "X_train, X_test, y_train, y_test = train_test_split(feature_array, label_array, test_size = 0.3, random_state = 42)\n",
    "\n",
    " \n",
    "  \n",
    "clf = KNeighborsClassifier()\n",
    "  \n",
    "clf.fit(X_train, y_train)"
   ]
  },
  {
   "cell_type": "code",
   "execution_count": 10,
   "id": "3415ebe5",
   "metadata": {},
   "outputs": [],
   "source": [
    "Ypred =  clf.predict_proba(X_test)"
   ]
  },
  {
   "cell_type": "code",
   "execution_count": 11,
   "id": "3b650dec",
   "metadata": {},
   "outputs": [
    {
     "name": "stdout",
     "output_type": "stream",
     "text": [
      "[[1.  0. ]\n",
      " [0.  1. ]\n",
      " [1.  0. ]\n",
      " ...\n",
      " [0.4 0.6]\n",
      " [1.  0. ]\n",
      " [0.  1. ]]\n"
     ]
    }
   ],
   "source": [
    "print(Ypred)"
   ]
  },
  {
   "cell_type": "code",
   "execution_count": 12,
   "id": "f04ec078",
   "metadata": {},
   "outputs": [],
   "source": [
    "Ypred =  clf.predict_proba(X_test)[:, 1]"
   ]
  },
  {
   "cell_type": "code",
   "execution_count": 13,
   "id": "61d6f687",
   "metadata": {},
   "outputs": [
    {
     "name": "stdout",
     "output_type": "stream",
     "text": [
      "[0.  1.  0.  ... 0.6 0.  1. ]\n"
     ]
    }
   ],
   "source": [
    "print(Ypred)"
   ]
  },
  {
   "cell_type": "code",
   "execution_count": 15,
   "id": "822e99c8",
   "metadata": {},
   "outputs": [],
   "source": [
    "df=DataFrame()\n",
    "df['label']=Series(y_test)\n",
    "df['probability']=Series(Ypred)\n",
    "df.to_csv('C:/Users/11409/Desktop/clf_roc.csv')"
   ]
  },
  {
   "cell_type": "code",
   "execution_count": 17,
   "id": "028f68e7",
   "metadata": {},
   "outputs": [
    {
     "name": "stderr",
     "output_type": "stream",
     "text": [
      "No artists with labels found to put in legend.  Note that artists whose label start with an underscore are ignored when legend() is called with no argument.\n"
     ]
    },
    {
     "name": "stdout",
     "output_type": "stream",
     "text": [
      "0.9920408017729916\n"
     ]
    },
    {
     "data": {
      "text/plain": [
       "<Figure size 432x288 with 0 Axes>"
      ]
     },
     "metadata": {},
     "output_type": "display_data"
    },
    {
     "data": {
      "image/png": "[encoded data removed]",
      "text/plain": [
       "<Figure size 432x432 with 1 Axes>"
      ]
     },
     "metadata": {
      "needs_background": "light"
     },
     "output_type": "display_data"
    }
   ],
   "source": [
    "def ROC(path):\n",
    "    df=pd.read_csv(path) \n",
    "    y_test=df['label']\n",
    "    y_score=df['probability']   \n",
    "    fpr,tpr,threshold = roc_curve(y_test, y_score) ###计算真正率和假正率  \n",
    "    roc_auc = auc(fpr,tpr) ###计算auc的值\n",
    "    return fpr,tpr,roc_auc\n",
    "plt.figure()\n",
    "lw = 0.9\n",
    "plt.figure(figsize=(6,6))\n",
    "ax1=plt.subplot(1,1,1)\n",
    "ak='C:/Users/11409/Desktop/clf_roc.csv'\n",
    "fpr,tpr,roc_auc=ROC(path=ak)\n",
    "print(roc_auc)\n",
    "ax1.plot(fpr, tpr, color='#2F7FC1',lw=lw)\n",
    "ax1.plot([0, 1], [0, 1], color='SlateGray', lw=0.8, linestyle='--')  \n",
    "ax1.set_xlim([-0.02, 1.0])  \n",
    "ax1.set_ylim([0.0, 1.02])  \n",
    "ax1.set_xlabel('False Positive Rate',fontsize=14)  \n",
    "ax1.set_ylabel('True Positive Rate',fontsize=14) \n",
    "plt.legend(loc=\"lower right\")\n",
    "plt.savefig('C:/Users/11409/Desktop/clf.png')"
   ]
  },
  {
   "cell_type": "code",
   "execution_count": 2,
   "id": "1792f3b0",
   "metadata": {},
   "outputs": [
    {
     "name": "stdout",
     "output_type": "stream",
     "text": [
      "              precision    recall  f1-score   support\n",
      "\n",
      "           0       0.97      0.96      0.97      1827\n",
      "           1       0.96      0.97      0.97      1773\n",
      "\n",
      "    accuracy                           0.97      3600\n",
      "   macro avg       0.97      0.97      0.97      3600\n",
      "weighted avg       0.97      0.97      0.97      3600\n",
      "\n"
     ]
    }
   ],
   "source": [
    "from sklearn.metrics import classification_report\n",
    "print(classification_report(y_test,y_test_predict))"
   ]
  },
  {
   "cell_type": "code",
   "execution_count": null,
   "id": "a83457dc",
   "metadata": {},
   "outputs": [],
   "source": []
  }
 ],
 "metadata": {
  "kernelspec": {
   "display_name": "Python 3 (ipykernel)",
   "language": "python",
   "name": "python3"
  },
  "language_info": {
   "codemirror_mode": {
    "name": "ipython",
    "version": 3
   },
   "file_extension": ".py",
   "mimetype": "text/x-python",
   "name": "python",
   "nbconvert_exporter": "python",
   "pygments_lexer": "ipython3",
   "version": "3.7.13"
  }
 },
 "nbformat": 4,
 "nbformat_minor": 5
}
