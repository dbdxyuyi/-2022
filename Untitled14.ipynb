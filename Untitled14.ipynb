{
 "cells": [
  {
   "cell_type": "code",
   "execution_count": 18,
   "id": "6dab9ba9",
   "metadata": {},
   "outputs": [],
   "source": [
    "import pandas as pd\n",
    "from pandas import DataFrame,Series\n",
    "import sys\n",
    "import os\n",
    "import cv2\n",
    "import numpy as np\n",
    "\n",
    "from sklearn.model_selection import train_test_split\n",
    "from sklearn.metrics import roc_curve,auc\n",
    "\n",
    "import seaborn as sns\n",
    "from sklearn.metrics import confusion_matrix\n",
    "from sklearn.metrics import accuracy_score,roc_auc_score,roc_curve,auc\n",
    "import matplotlib.pyplot as plt\n",
    "from sklearn.tree import DecisionTreeClassifier\n",
    "from sklearn.metrics import classification_report\n",
    "SHAPE = (30, 30)"
   ]
  },
  {
   "cell_type": "code",
   "execution_count": 19,
   "id": "99a7ce3e",
   "metadata": {},
   "outputs": [],
   "source": [
    "def getImageData(directory):\n",
    "   s = 1\n",
    "   feature_list = list()\n",
    "   label_list   = list()\n",
    "   num_classes = 0\n",
    "   for root, dirs, files in os.walk(directory):\n",
    "      for d in dirs:\n",
    "         num_classes += 1\n",
    "         images = os.listdir(root+d)\n",
    "         for image in images:\n",
    "            s += 1\n",
    "            label_list.append(d)\n",
    "            feature_list.append(extractFeaturesFromImage(root + d + \"/\" + image))\n",
    "\n",
    "   return np.asarray(feature_list), np.asarray(label_list)\n",
    "\n",
    "def extractFeaturesFromImage(image_file):\n",
    "   img = cv2.imread(image_file)\n",
    "   img = cv2.resize(img, SHAPE, interpolation = cv2.INTER_CUBIC)\n",
    "   img = img.flatten()\n",
    "   img = img / np.mean(img)\n",
    "   return img"
   ]
  },
  {
   "cell_type": "code",
   "execution_count": 20,
   "id": "ab30faa5",
   "metadata": {},
   "outputs": [
    {
     "data": {
      "text/plain": [
       "DecisionTreeClassifier(max_depth=6)"
      ]
     },
     "execution_count": 20,
     "metadata": {},
     "output_type": "execute_result"
    }
   ],
   "source": [
    "directory =\"C:/Users/11409/Desktop/444/\"\n",
    "\n",
    "feature_array, label_array = getImageData(directory)\n",
    "\n",
    "X_train, X_test, y_train, y_test = train_test_split(feature_array, label_array, test_size = 0.3, random_state = 42)\n",
    "\n",
    "model = DecisionTreeClassifier(criterion='gini',splitter='best',max_depth=6)\n",
    "  \n",
    "\n",
    "  \n",
    "model.fit(X_train, y_train)"
   ]
  },
  {
   "cell_type": "code",
   "execution_count": 21,
   "id": "53c2c7f5",
   "metadata": {},
   "outputs": [],
   "source": [
    "Ypred =  model.predict_proba(X_test)[:, 1]"
   ]
  },
  {
   "cell_type": "code",
   "execution_count": 17,
   "id": "0f5b7e6b",
   "metadata": {},
   "outputs": [],
   "source": [
    "Ypred =  model.predict_proba(X_test)"
   ]
  },
  {
   "cell_type": "code",
   "execution_count": 29,
   "id": "de2633f3",
   "metadata": {},
   "outputs": [
    {
     "name": "stdout",
     "output_type": "stream",
     "text": [
      "[0.66548043 0.90357143 0.03709311 ... 0.90357143 0.11538462 0.74785918]\n"
     ]
    }
   ],
   "source": [
    "print(Ypred)"
   ]
  },
  {
   "cell_type": "code",
   "execution_count": 19,
   "id": "7435d468",
   "metadata": {},
   "outputs": [],
   "source": [
    "Ypred =  model.predict_proba(X_test)[:, 1]"
   ]
  },
  {
   "cell_type": "code",
   "execution_count": 20,
   "id": "487f9bbd",
   "metadata": {},
   "outputs": [
    {
     "name": "stdout",
     "output_type": "stream",
     "text": [
      "[0.66548043 0.90364026 0.03709311 ... 0.90364026 0.11538462 0.74761905]\n"
     ]
    }
   ],
   "source": [
    "print(Ypred)"
   ]
  },
  {
   "cell_type": "code",
   "execution_count": 22,
   "id": "2838f665",
   "metadata": {},
   "outputs": [
    {
     "name": "stdout",
     "output_type": "stream",
     "text": [
      "0.8692857142857143\n",
      "0.8361111111111111\n"
     ]
    },
    {
     "data": {
      "image/png": "[encoded data removed]",
      "text/plain": [
       "<Figure size 432x288 with 2 Axes>"
      ]
     },
     "metadata": {
      "needs_background": "light"
     },
     "output_type": "display_data"
    }
   ],
   "source": [
    "y_test_predict = model.predict(X_test)\n",
    "y_train_predict = model.predict(X_train)\n",
    "for i in range(len(y_test)):\n",
    "      if y_test[i]=='yes':\n",
    "         y_test[i]='1'\n",
    "      else:\n",
    "        y_test[i]='0'\n",
    "for i in range(len(y_train_predict)):\n",
    "       if y_train_predict[i] == 'yes':\n",
    "          y_train_predict[i] ='1' \n",
    "       else:\n",
    "          y_train_predict[i] ='0'\n",
    "for i in range(len(y_test)):\n",
    "         if y_test_predict[i] == 'yes':\n",
    "            y_test_predict[i] = '1'\n",
    "         else:\n",
    "            y_test_predict[i] = '0'\n",
    "for i in range(len(y_train)):\n",
    "        if y_train[i] == 'yes':\n",
    "            y_train[i] = '1'\n",
    "        else:\n",
    "            y_train[i] = '0'\n",
    "    # 测试准确率\n",
    "y_true = y_test\n",
    "y_pred = y_test_predict\n",
    "cm = confusion_matrix(y_true,y_pred)\n",
    "cm = pd.DataFrame(cm,columns=[\"healthy\",\"cancer\"],index=[\"healthy\",\"cancer\"])\n",
    "sns.heatmap(cm,cmap=\"YlGnBu_r\",fmt=\"d\",annot=True)\n",
    "accuracy_train = accuracy_score(y_train, y_train_predict)\n",
    "print(accuracy_train)\n",
    "  # 测试准确率\n",
    "  # 测试准确率\n",
    "\n",
    "accuracy_test = accuracy_score(y_test, y_test_predict)\n",
    "print(accuracy_test)"
   ]
  },
  {
   "cell_type": "code",
   "execution_count": 17,
   "id": "681d65c8",
   "metadata": {},
   "outputs": [
    {
     "name": "stdout",
     "output_type": "stream",
     "text": [
      "['yes']\n"
     ]
    },
    {
     "name": "stderr",
     "output_type": "stream",
     "text": [
      "Using TensorFlow backend.\n"
     ]
    },
    {
     "data": {
      "text/plain": [
       "<matplotlib.image.AxesImage at 0x1d0d064cbc8>"
      ]
     },
     "execution_count": 17,
     "metadata": {},
     "output_type": "execute_result"
    },
    {
     "data": {
      "image/png": "[encoded data removed]",
      "text/plain": [
       "<Figure size 360x360 with 1 Axes>"
      ]
     },
     "metadata": {
      "needs_background": "light"
     },
     "output_type": "display_data"
    }
   ],
   "source": [
    "img1=extractFeaturesFromImage(\"C:/Users/11409/Desktop/0/12.jpg\")\n",
    "feature_list1 = list()\n",
    "feature_list1.append(img1)\n",
    "\n",
    "Ypred = model.predict(feature_list1)\n",
    "print(Ypred)\n",
    "%matplotlib inline\n",
    "from keras.preprocessing.image import load_img,img_to_array\n",
    "from matplotlib import pyplot as plt\n",
    "img_path='C:/Users/11409/Desktop/0/12.jpg'\n",
    "fig = plt.figure(figsize=(5,5))\n",
    "img = load_img(img_path,target_size=(30,30))\n",
    "plt.imshow(img)"
   ]
  },
  {
   "cell_type": "code",
   "execution_count": 23,
   "id": "a6bae640",
   "metadata": {},
   "outputs": [],
   "source": [
    "df=DataFrame()\n",
    "df['label']=Series(y_test)\n",
    "df['probability']=Series(Ypred)\n",
    "df.to_csv('C:/Users/11409/Desktop/DT_roc.csv')"
   ]
  },
  {
   "cell_type": "code",
   "execution_count": 24,
   "id": "83cdf56b",
   "metadata": {},
   "outputs": [
    {
     "name": "stdout",
     "output_type": "stream",
     "text": [
      "['no']\n"
     ]
    },
    {
     "data": {
      "text/plain": [
       "<matplotlib.image.AxesImage at 0x1d0d06ae308>"
      ]
     },
     "execution_count": 24,
     "metadata": {},
     "output_type": "execute_result"
    },
    {
     "data": {
      "image/png": "[encoded data removed]",
      "text/plain": [
       "<Figure size 360x360 with 1 Axes>"
      ]
     },
     "metadata": {
      "needs_background": "light"
     },
     "output_type": "display_data"
    }
   ],
   "source": [
    "img1=extractFeaturesFromImage(\"C:/Users/11409/Desktop/0/1.jpg\")\n",
    "feature_list1 = list()\n",
    "feature_list1.append(img1)\n",
    "\n",
    "Ypred = model.predict(feature_list1)\n",
    "print(Ypred)\n",
    "%matplotlib inline\n",
    "from keras.preprocessing.image import load_img,img_to_array\n",
    "from matplotlib import pyplot as plt\n",
    "img_path='C:/Users/11409/Desktop/0/1.jpg'\n",
    "fig = plt.figure(figsize=(5,5))\n",
    "img = load_img(img_path,target_size=(30,30))\n",
    "plt.imshow(img)"
   ]
  },
  {
   "cell_type": "code",
   "execution_count": 36,
   "id": "6e8f99cf",
   "metadata": {},
   "outputs": [
    {
     "name": "stdout",
     "output_type": "stream",
     "text": [
      "['yes']\n"
     ]
    },
    {
     "data": {
      "text/plain": [
       "<matplotlib.image.AxesImage at 0x217f7160dc8>"
      ]
     },
     "execution_count": 36,
     "metadata": {},
     "output_type": "execute_result"
    },
    {
     "data": {
      "image/png": "[encoded data removed]",
      "text/plain": [
       "<Figure size 360x360 with 1 Axes>"
      ]
     },
     "metadata": {
      "needs_background": "light"
     },
     "output_type": "display_data"
    }
   ],
   "source": [
    "img1=extractFeaturesFromImage(\"C:/Users/11409/Desktop/0/10.jpg\")\n",
    "feature_list1 = list()\n",
    "feature_list1.append(img1)\n",
    "\n",
    "Ypred = model.predict(feature_list1)\n",
    "print(Ypred)\n",
    "%matplotlib inline\n",
    "from keras.preprocessing.image import load_img,img_to_array\n",
    "from matplotlib import pyplot as plt\n",
    "img_path='C:/Users/11409/Desktop/0/10.jpg'\n",
    "fig = plt.figure(figsize=(5,5))\n",
    "img = load_img(img_path,target_size=(30,30))\n",
    "plt.imshow(img)"
   ]
  },
  {
   "cell_type": "code",
   "execution_count": 12,
   "id": "d7aedc25",
   "metadata": {},
   "outputs": [
    {
     "name": "stdout",
     "output_type": "stream",
     "text": [
      "['yes']\n"
     ]
    },
    {
     "data": {
      "text/plain": [
       "<matplotlib.image.AxesImage at 0x2180baaaf48>"
      ]
     },
     "execution_count": 12,
     "metadata": {},
     "output_type": "execute_result"
    },
    {
     "data": {
      "image/png": "[encoded data removed]",
      "text/plain": [
       "<Figure size 360x360 with 1 Axes>"
      ]
     },
     "metadata": {
      "needs_background": "light"
     },
     "output_type": "display_data"
    }
   ],
   "source": [
    "img1=extractFeaturesFromImage(\"C:/Users/11409/Desktop/0/7.jpg\")\n",
    "feature_list1 = list()\n",
    "feature_list1.append(img1)\n",
    "\n",
    "Ypred = model.predict(feature_list1)\n",
    "print(Ypred)\n",
    "%matplotlib inline\n",
    "from keras.preprocessing.image import load_img,img_to_array\n",
    "from matplotlib import pyplot as plt\n",
    "img_path='C:/Users/11409/Desktop/0/7.jpg'\n",
    "fig = plt.figure(figsize=(5,5))\n",
    "img = load_img(img_path,target_size=(30,30))\n",
    "plt.imshow(img)"
   ]
  },
  {
   "cell_type": "code",
   "execution_count": 25,
   "id": "9cea633f",
   "metadata": {},
   "outputs": [
    {
     "name": "stderr",
     "output_type": "stream",
     "text": [
      "No artists with labels found to put in legend.  Note that artists whose label start with an underscore are ignored when legend() is called with no argument.\n"
     ]
    },
    {
     "name": "stdout",
     "output_type": "stream",
     "text": [
      "0.8755821911782002\n"
     ]
    },
    {
     "data": {
      "text/plain": [
       "<Figure size 432x288 with 0 Axes>"
      ]
     },
     "metadata": {},
     "output_type": "display_data"
    },
    {
     "data": {
      "image/png": "[encoded data removed]",
      "text/plain": [
       "<Figure size 432x432 with 1 Axes>"
      ]
     },
     "metadata": {
      "needs_background": "light"
     },
     "output_type": "display_data"
    }
   ],
   "source": [
    "def ROC(path):\n",
    "    df=pd.read_csv(path) \n",
    "    y_test=df['label']\n",
    "    y_score=df['probability']   \n",
    "    fpr,tpr,threshold = roc_curve(y_test, y_score) ###计算真正率和假正率  \n",
    "    roc_auc = auc(fpr,tpr) ###计算auc的值\n",
    "    return fpr,tpr,roc_auc\n",
    "plt.figure()\n",
    "lw = 0.9\n",
    "plt.figure(figsize=(6,6))\n",
    "ax1=plt.subplot(1,1,1)\n",
    "ak='C:/Users/11409/Desktop/DT_roc.csv'\n",
    "fpr,tpr,roc_auc=ROC(path=ak)\n",
    "print(roc_auc)\n",
    "ax1.plot(fpr, tpr, color='#2F7FC1',lw=lw)\n",
    "ax1.plot([0, 1], [0, 1], color='SlateGray', lw=0.8, linestyle='--')  \n",
    "ax1.set_xlim([-0.02, 1.0])  \n",
    "ax1.set_ylim([0.0, 1.02])  \n",
    "ax1.set_xlabel('False Positive Rate',fontsize=14)  \n",
    "ax1.set_ylabel('True Positive Rate',fontsize=14) \n",
    "plt.legend(loc=\"lower right\")\n",
    "plt.savefig('C:/Users/11409/Desktop/DT.png')"
   ]
  },
  {
   "cell_type": "code",
   "execution_count": 26,
   "id": "bc66ef33",
   "metadata": {},
   "outputs": [
    {
     "name": "stdout",
     "output_type": "stream",
     "text": [
      "              precision    recall  f1-score   support\n",
      "\n",
      "           0       0.87      0.79      0.83      1827\n",
      "           1       0.81      0.88      0.84      1773\n",
      "\n",
      "    accuracy                           0.84      3600\n",
      "   macro avg       0.84      0.84      0.84      3600\n",
      "weighted avg       0.84      0.84      0.84      3600\n",
      "\n"
     ]
    }
   ],
   "source": [
    "from sklearn.metrics import classification_report\n",
    "print(classification_report(y_test,y_test_predict))"
   ]
  },
  {
   "cell_type": "code",
   "execution_count": null,
   "id": "3138d4d6",
   "metadata": {},
   "outputs": [],
   "source": []
  }
 ],
 "metadata": {
  "kernelspec": {
   "display_name": "Python 3 (ipykernel)",
   "language": "python",
   "name": "python3"
  },
  "language_info": {
   "codemirror_mode": {
    "name": "ipython",
    "version": 3
   },
   "file_extension": ".py",
   "mimetype": "text/x-python",
   "name": "python",
   "nbconvert_exporter": "python",
   "pygments_lexer": "ipython3",
   "version": "3.7.13"
  }
 },
 "nbformat": 4,
 "nbformat_minor": 5
}
